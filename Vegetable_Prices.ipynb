{
 "cells": [
  {
   "cell_type": "markdown",
   "id": "5f9d5d60-faa6-4f35-8ec4-98bb599fcac9",
   "metadata": {},
   "source": [
    "# Vegetable Prices for the year 2023 "
   ]
  },
  {
   "cell_type": "code",
   "execution_count": 42,
   "id": "dd7109b8-2eb5-4b52-ac49-f28827537b5d",
   "metadata": {},
   "outputs": [
    {
     "data": {
      "text/html": [
       "<center><img src=\"vegetable_market_scene.jpg\" width=\"500\" height=\"500\"></center>

      ],
      "text/plain": [
       "<IPython.core.display.HTML object>"
      ]
     },
     "metadata": {},
     "output_type": "display_data"
    }
   ],
   "source": [
    "from IPython.display import display, HTML, Image\n",
    "\n",
    "# Display the image in the center of the notebook\n",
    "display(HTML('<center><img src=\"vegetable_market_scene.jpg\" width=\"500\" height=\"500\"></center>'))\n"
   ]
  },
  {
   "cell_type": "markdown",
   "id": "41cbe40b-7436-42fa-97e9-9000cabea10e",
   "metadata": {},
   "source": [
    "### Table of Content\n",
    "\n",
    "#### [1. Project Overview](#1.Project_Overview)\n",
    "- [1.1 Introduction](#1.1_Introduction)\n",
    "- [1.2 Problem Statement](#1.2_Problem_Statement)\n",
    "- [1.3 Objectives](#1.3_Objectives)\n",
    "####  [2. Importing Packages](#2.Import_Packages)\n",
    "#### [3. Loading Data](#3.Loading_data)\n",
    "#### [4. Data Cleaning](#4.Data_Cleaning)\n",
    "#### [5. Exploratory Data Analysis (EDA)](#5.Exploratory_Data_Analysis_(EDA))\n",
    "#### [6. Conclusion](#6.Conclusion)"
   ]
  },
  {
   "cell_type": "markdown",
   "id": "88f78b1c-f401-4ef1-95db-806187ea0992",
   "metadata": {},
   "source": [
    "### 1.Project_Overview\n"
   ]
  },
  {
   "cell_type": "markdown",
   "id": "404c566c-0d3a-480f-b5cc-eb43e2a2569a",
   "metadata": {},
   "source": [
    "#### 1.1_Introduction"
   ]
  },
  {
   "cell_type": "markdown",
   "id": "9380a416-f95a-42a6-b867-b88077e87d9b",
   "metadata": {
    "jp-MarkdownHeadingCollapsed": true
   },
   "source": [
    "This dataset captures the price fluctuations of various vegetables over the year 2023,offering insights into market trends,seasonal impacts and overall price volatility.The data encompasses details like the vegetable name,unit price.By analyzing this dataset,we can uncover patterns in vegetable pricing, evaluate the influence of external factors like weather or economic conditions, and predict future price trajectories."
   ]
  },
  {
   "cell_type": "markdown",
   "id": "89e6a5df-785f-4b6b-8c84-72cac8f83ae4",
   "metadata": {},
   "source": [
    "#### 1.2_Problem_Statement\n"
   ]
  },
  {
   "cell_type": "markdown",
   "id": "4f3365a6-066e-4122-b304-3d4ad25b534d",
   "metadata": {},
   "source": [
    "Vegetable prices fluctuate significantly making it difficult for farmers,retailers and consumers to plan and make informed decisions.Factors such as seasonality,Logistics and changing demand patterns contribute to price volatility."
   ]
  },
  {
   "cell_type": "markdown",
   "id": "fe3a8105-f99a-4a88-a960-752dc9a3a60d",
   "metadata": {},
   "source": [
    "#### 1.3_Objectives"
   ]
  },
  {
   "cell_type": "markdown",
   "id": "573de15c-7d7d-4d80-818a-1b2ab3eec679",
   "metadata": {},
   "source": [
    "- Determine which months have the highest and lowest prices for each vegetable.This could help retailers and consumers plan ahead by purchasing or storing vegetables when prices are lower.\n",
    "- Calculate the average price for each vegetable to establish a baseline for cost expectations.\n",
    "- Examine the correlation between vegetable prices to understand how changes in one commodity affect the prices of others.\n",
    "  "
   ]
  },
  {
   "cell_type": "markdown",
   "id": "da9f8080-0284-493c-81e5-a2c42d630466",
   "metadata": {},
   "source": [
    "### 2.Import_Packages"
   ]
  },
  {
   "cell_type": "code",
   "execution_count": 6,
   "id": "b3a1cda1",
   "metadata": {},
   "outputs": [],
   "source": [
    "# Libraries for data loading, manipulation and analysis\n",
    "\n",
    "import numpy as np\n",
    "import pandas as pd\n",
    "import csv\n",
    "import seaborn as sns\n",
    "import matplotlib.pyplot as plt\n",
    "\n",
    "# Displays output inline\n",
    "%matplotlib inline\n",
    "\n",
    "# Libraries for Handing Errors\n",
    "import warnings\n",
    "warnings.filterwarnings('ignore')"
   ]
  },
  {
   "cell_type": "markdown",
   "id": "b1a9443b-b3fb-42bc-b9c7-c8a993c727f8",
   "metadata": {},
   "source": [
    "### 3.Loading_data"
   ]
  },
  {
   "cell_type": "code",
   "execution_count": 7,
   "id": "087ba0d2",
   "metadata": {},
   "outputs": [],
   "source": [
    "import pandas as pd\n",
    "\n",
    "df = pd.read_csv('prices.csv')"
   ]
  },
  {
   "cell_type": "markdown",
   "id": "8d8f1b90-47c7-4957-afb0-6571b8eef943",
   "metadata": {
    "scrolled": true
   },
   "source": [
    "### 4.Data_Cleaning"
   ]
  },
  {
   "cell_type": "code",
   "execution_count": 9,
   "id": "0cc69ebb-7f01-438c-a24a-0398adcb4eee",
   "metadata": {},
   "outputs": [
    {
     "name": "stdout",
     "output_type": "stream",
     "text": [
      "<class 'pandas.core.frame.DataFrame'>\n",
      "RangeIndex: 287 entries, 0 to 286\n",
      "Data columns (total 11 columns):\n",
      " #   Column                  Non-Null Count  Dtype  \n",
      "---  ------                  --------------  -----  \n",
      " 0   Price Dates             287 non-null    object \n",
      " 1   Bhindi (Ladies finger)  287 non-null    float64\n",
      " 2   Tomato                  287 non-null    int64  \n",
      " 3   Onion                   287 non-null    float64\n",
      " 4   Potato                  287 non-null    int64  \n",
      " 5   Brinjal                 287 non-null    int64  \n",
      " 6   Garlic                  287 non-null    int64  \n",
      " 7   Peas                    287 non-null    int64  \n",
      " 8   Methi                   287 non-null    int64  \n",
      " 9   Green Chilli            287 non-null    float64\n",
      " 10  Elephant Yam (Suran)    287 non-null    int64  \n",
      "dtypes: float64(3), int64(7), object(1)\n",
      "memory usage: 24.8+ KB\n"
     ]
    }
   ],
   "source": [
    "df.info()"
   ]
  },
  {
   "cell_type": "code",
   "execution_count": 8,
   "id": "3db0f92c-8095-4310-95a6-1289f8af61ef",
   "metadata": {},
   "outputs": [
    {
     "data": {
      "text/html": [
       "<div>\n",
       "<style scoped>\n",
       "    .dataframe tbody tr th:only-of-type {\n",
       "        vertical-align: middle;\n",
       "    }\n",
       "\n",
       "    .dataframe tbody tr th {\n",
       "        vertical-align: top;\n",
       "    }\n",
       "\n",
       "    .dataframe thead th {\n",
       "        text-align: right;\n",
       "    }\n",
       "</style>\n",
       "<table border=\"1\" class=\"dataframe\">\n",
       "  <thead>\n",
       "    <tr style=\"text-align: right;\">\n",
       "      <th></th>\n",
       "      <th>Bhindi (Ladies finger)</th>\n",
       "      <th>Tomato</th>\n",
       "      <th>Onion</th>\n",
       "      <th>Potato</th>\n",
       "      <th>Brinjal</th>\n",
       "      <th>Garlic</th>\n",
       "      <th>Peas</th>\n",
       "      <th>Methi</th>\n",
       "      <th>Green Chilli</th>\n",
       "      <th>Elephant Yam (Suran)</th>\n",
       "    </tr>\n",
       "  </thead>\n",
       "  <tbody>\n",
       "    <tr>\n",
       "      <th>count</th>\n",
       "      <td>287.000000</td>\n",
       "      <td>287.000000</td>\n",
       "      <td>287.000000</td>\n",
       "      <td>287.000000</td>\n",
       "      <td>287.000000</td>\n",
       "      <td>287.000000</td>\n",
       "      <td>287.000000</td>\n",
       "      <td>287.000000</td>\n",
       "      <td>287.000000</td>\n",
       "      <td>287.000000</td>\n",
       "    </tr>\n",
       "    <tr>\n",
       "      <th>mean</th>\n",
       "      <td>29.444251</td>\n",
       "      <td>16.006969</td>\n",
       "      <td>20.649826</td>\n",
       "      <td>18.585366</td>\n",
       "      <td>31.655052</td>\n",
       "      <td>133.101045</td>\n",
       "      <td>66.658537</td>\n",
       "      <td>20.383275</td>\n",
       "      <td>44.122404</td>\n",
       "      <td>28.797909</td>\n",
       "    </tr>\n",
       "    <tr>\n",
       "      <th>std</th>\n",
       "      <td>8.124815</td>\n",
       "      <td>0.118056</td>\n",
       "      <td>11.711204</td>\n",
       "      <td>2.726238</td>\n",
       "      <td>11.725421</td>\n",
       "      <td>60.078331</td>\n",
       "      <td>33.302415</td>\n",
       "      <td>117.428417</td>\n",
       "      <td>12.796590</td>\n",
       "      <td>6.607973</td>\n",
       "    </tr>\n",
       "    <tr>\n",
       "      <th>min</th>\n",
       "      <td>17.000000</td>\n",
       "      <td>16.000000</td>\n",
       "      <td>8.000000</td>\n",
       "      <td>12.000000</td>\n",
       "      <td>14.000000</td>\n",
       "      <td>50.000000</td>\n",
       "      <td>22.000000</td>\n",
       "      <td>5.000000</td>\n",
       "      <td>0.130000</td>\n",
       "      <td>12.000000</td>\n",
       "    </tr>\n",
       "    <tr>\n",
       "      <th>25%</th>\n",
       "      <td>22.000000</td>\n",
       "      <td>16.000000</td>\n",
       "      <td>12.000000</td>\n",
       "      <td>16.000000</td>\n",
       "      <td>25.000000</td>\n",
       "      <td>85.000000</td>\n",
       "      <td>40.000000</td>\n",
       "      <td>8.000000</td>\n",
       "      <td>35.000000</td>\n",
       "      <td>25.000000</td>\n",
       "    </tr>\n",
       "    <tr>\n",
       "      <th>50%</th>\n",
       "      <td>27.500000</td>\n",
       "      <td>16.000000</td>\n",
       "      <td>16.000000</td>\n",
       "      <td>20.000000</td>\n",
       "      <td>30.000000</td>\n",
       "      <td>120.000000</td>\n",
       "      <td>60.000000</td>\n",
       "      <td>12.000000</td>\n",
       "      <td>40.000000</td>\n",
       "      <td>30.000000</td>\n",
       "    </tr>\n",
       "    <tr>\n",
       "      <th>75%</th>\n",
       "      <td>33.000000</td>\n",
       "      <td>16.000000</td>\n",
       "      <td>25.000000</td>\n",
       "      <td>20.000000</td>\n",
       "      <td>35.000000</td>\n",
       "      <td>165.000000</td>\n",
       "      <td>80.000000</td>\n",
       "      <td>16.000000</td>\n",
       "      <td>50.000000</td>\n",
       "      <td>30.000000</td>\n",
       "    </tr>\n",
       "    <tr>\n",
       "      <th>max</th>\n",
       "      <td>60.000000</td>\n",
       "      <td>18.000000</td>\n",
       "      <td>57.000000</td>\n",
       "      <td>24.000000</td>\n",
       "      <td>80.000000</td>\n",
       "      <td>290.000000</td>\n",
       "      <td>150.000000</td>\n",
       "      <td>2000.000000</td>\n",
       "      <td>90.000000</td>\n",
       "      <td>50.000000</td>\n",
       "    </tr>\n",
       "  </tbody>\n",
       "</table>\n",
       "</div>"
      ],
      "text/plain": [
       "       Bhindi (Ladies finger)      Tomato       Onion      Potato     Brinjal  \\\n",
       "count              287.000000  287.000000  287.000000  287.000000  287.000000   \n",
       "mean                29.444251   16.006969   20.649826   18.585366   31.655052   \n",
       "std                  8.124815    0.118056   11.711204    2.726238   11.725421   \n",
       "min                 17.000000   16.000000    8.000000   12.000000   14.000000   \n",
       "25%                 22.000000   16.000000   12.000000   16.000000   25.000000   \n",
       "50%                 27.500000   16.000000   16.000000   20.000000   30.000000   \n",
       "75%                 33.000000   16.000000   25.000000   20.000000   35.000000   \n",
       "max                 60.000000   18.000000   57.000000   24.000000   80.000000   \n",
       "\n",
       "           Garlic        Peas        Methi  Green Chilli  Elephant Yam (Suran)  \n",
       "count  287.000000  287.000000   287.000000    287.000000            287.000000  \n",
       "mean   133.101045   66.658537    20.383275     44.122404             28.797909  \n",
       "std     60.078331   33.302415   117.428417     12.796590              6.607973  \n",
       "min     50.000000   22.000000     5.000000      0.130000             12.000000  \n",
       "25%     85.000000   40.000000     8.000000     35.000000             25.000000  \n",
       "50%    120.000000   60.000000    12.000000     40.000000             30.000000  \n",
       "75%    165.000000   80.000000    16.000000     50.000000             30.000000  \n",
       "max    290.000000  150.000000  2000.000000     90.000000             50.000000  "
      ]
     },
     "execution_count": 8,
     "metadata": {},
     "output_type": "execute_result"
    }
   ],
   "source": [
    "df.describe()"
   ]
  },
  {
   "cell_type": "code",
   "execution_count": 21,
   "id": "b2e83647-c749-4067-9108-1522dc62b844",
   "metadata": {},
   "outputs": [
    {
     "data": {
      "text/html": [
       "<div>\n",
       "<style scoped>\n",
       "    .dataframe tbody tr th:only-of-type {\n",
       "        vertical-align: middle;\n",
       "    }\n",
       "\n",
       "    .dataframe tbody tr th {\n",
       "        vertical-align: top;\n",
       "    }\n",
       "\n",
       "    .dataframe thead th {\n",
       "        text-align: right;\n",
       "    }\n",
       "</style>\n",
       "<table border=\"1\" class=\"dataframe\">\n",
       "  <thead>\n",
       "    <tr style=\"text-align: right;\">\n",
       "      <th></th>\n",
       "      <th>Price Dates</th>\n",
       "      <th>Bhindi (Ladies finger)</th>\n",
       "      <th>Tomato</th>\n",
       "      <th>Onion</th>\n",
       "      <th>Potato</th>\n",
       "      <th>Brinjal</th>\n",
       "      <th>Garlic</th>\n",
       "      <th>Peas</th>\n",
       "      <th>Methi</th>\n",
       "      <th>Green Chilli</th>\n",
       "      <th>Elephant Yam (Suran)</th>\n",
       "    </tr>\n",
       "  </thead>\n",
       "  <tbody>\n",
       "    <tr>\n",
       "      <th>0</th>\n",
       "      <td>01-01-2023</td>\n",
       "      <td>35.0</td>\n",
       "      <td>18</td>\n",
       "      <td>22.0</td>\n",
       "      <td>20</td>\n",
       "      <td>30</td>\n",
       "      <td>50</td>\n",
       "      <td>25</td>\n",
       "      <td>8</td>\n",
       "      <td>45.0</td>\n",
       "      <td>25</td>\n",
       "    </tr>\n",
       "    <tr>\n",
       "      <th>1</th>\n",
       "      <td>02-01-2023</td>\n",
       "      <td>35.0</td>\n",
       "      <td>16</td>\n",
       "      <td>22.0</td>\n",
       "      <td>20</td>\n",
       "      <td>30</td>\n",
       "      <td>55</td>\n",
       "      <td>25</td>\n",
       "      <td>7</td>\n",
       "      <td>40.0</td>\n",
       "      <td>25</td>\n",
       "    </tr>\n",
       "    <tr>\n",
       "      <th>2</th>\n",
       "      <td>03-01-2023</td>\n",
       "      <td>35.0</td>\n",
       "      <td>16</td>\n",
       "      <td>21.0</td>\n",
       "      <td>20</td>\n",
       "      <td>30</td>\n",
       "      <td>55</td>\n",
       "      <td>25</td>\n",
       "      <td>7</td>\n",
       "      <td>40.0</td>\n",
       "      <td>25</td>\n",
       "    </tr>\n",
       "    <tr>\n",
       "      <th>3</th>\n",
       "      <td>04-01-2023</td>\n",
       "      <td>30.0</td>\n",
       "      <td>16</td>\n",
       "      <td>21.0</td>\n",
       "      <td>22</td>\n",
       "      <td>25</td>\n",
       "      <td>55</td>\n",
       "      <td>25</td>\n",
       "      <td>7</td>\n",
       "      <td>40.0</td>\n",
       "      <td>25</td>\n",
       "    </tr>\n",
       "    <tr>\n",
       "      <th>4</th>\n",
       "      <td>08-01-2023</td>\n",
       "      <td>35.0</td>\n",
       "      <td>16</td>\n",
       "      <td>20.0</td>\n",
       "      <td>21</td>\n",
       "      <td>25</td>\n",
       "      <td>55</td>\n",
       "      <td>22</td>\n",
       "      <td>6</td>\n",
       "      <td>35.0</td>\n",
       "      <td>25</td>\n",
       "    </tr>\n",
       "  </tbody>\n",
       "</table>\n",
       "</div>"
      ],
      "text/plain": [
       "  Price Dates  Bhindi (Ladies finger)  Tomato  Onion  Potato  Brinjal  Garlic  \\\n",
       "0  01-01-2023                    35.0      18   22.0      20       30      50   \n",
       "1  02-01-2023                    35.0      16   22.0      20       30      55   \n",
       "2  03-01-2023                    35.0      16   21.0      20       30      55   \n",
       "3  04-01-2023                    30.0      16   21.0      22       25      55   \n",
       "4  08-01-2023                    35.0      16   20.0      21       25      55   \n",
       "\n",
       "   Peas  Methi  Green Chilli  Elephant Yam (Suran)  \n",
       "0    25      8          45.0                    25  \n",
       "1    25      7          40.0                    25  \n",
       "2    25      7          40.0                    25  \n",
       "3    25      7          40.0                    25  \n",
       "4    22      6          35.0                    25  "
      ]
     },
     "execution_count": 21,
     "metadata": {},
     "output_type": "execute_result"
    }
   ],
   "source": [
    "df.head()"
   ]
  },
  {
   "cell_type": "markdown",
   "id": "0a72d198-6e30-411c-89cb-3ca95199715d",
   "metadata": {},
   "source": [
    "### 4.1 Check and handling missing values"
   ]
  },
  {
   "cell_type": "markdown",
   "id": "22943dd1-48cb-44d5-94d0-89bb910e9531",
   "metadata": {},
   "source": [
    "##### rows with missing values"
   ]
  },
  {
   "cell_type": "code",
   "execution_count": 31,
   "id": "bdfb2e50-e09a-4ee8-b651-59895d7186d7",
   "metadata": {},
   "outputs": [
    {
     "name": "stdout",
     "output_type": "stream",
     "text": [
      "Number of records with missing values: 0\n"
     ]
    }
   ],
   "source": [
    "# check for missing values in each row\n",
    "\n",
    "rows_missing_vals = df.isnull().any(axis=1) # creates a boolean Series (return True for rows with any missing values).\n",
    "num_records_w_missing_vals = rows_with_missing.sum()\n",
    "\n",
    "print(f'Number of records with missing values: {num_records_w_missing_vals}')"
   ]
  },
  {
   "cell_type": "markdown",
   "id": "a10dd657-14ac-4111-b958-9be68989dedc",
   "metadata": {},
   "source": [
    "##### columns with missing values"
   ]
  },
  {
   "cell_type": "code",
   "execution_count": 32,
   "id": "d0623fec-3133-47a9-8dfa-840ee1658867",
   "metadata": {},
   "outputs": [
    {
     "name": "stdout",
     "output_type": "stream",
     "text": [
      "Price Dates               0\n",
      "Bhindi (Ladies finger)    0\n",
      "Tomato                    0\n",
      "Onion                     0\n",
      "Potato                    0\n",
      "Brinjal                   0\n",
      "Garlic                    0\n",
      "Peas                      0\n",
      "Methi                     0\n",
      "Green Chilli              0\n",
      "Elephant Yam (Suran)      0\n",
      "dtype: int64\n"
     ]
    }
   ],
   "source": [
    "# Count number of missing values per column\n",
    "\n",
    "missing_vals_col = df.isnull().sum() # calculates the total count of True values for each column\n",
    "\n",
    "print(missing_vals_col)"
   ]
  },
  {
   "cell_type": "markdown",
   "id": "4902f682-d78a-446d-8684-ed458d4c8fe1",
   "metadata": {},
   "source": [
    "##### check for duplicate dates"
   ]
  },
  {
   "cell_type": "code",
   "execution_count": 34,
   "id": "2c070f46-2d4c-4574-a03d-57fd18c02099",
   "metadata": {},
   "outputs": [
    {
     "name": "stdout",
     "output_type": "stream",
     "text": [
      "Series([], dtype: int64)\n"
     ]
    }
   ],
   "source": [
    "# Group by the 'Price Dates' column and count occurrences\n",
    "duplicate_counts = df.groupby('Price Dates').size()\n",
    "\n",
    "# Filter to get only dates that appear more than once\n",
    "duplicates_more_than_once = duplicate_counts[duplicate_counts[duplicate_counts > 1]]\n",
    "\n",
    "print(duplicates_more_than_once)"
   ]
  },
  {
   "cell_type": "markdown",
   "id": "d0807494-f537-4bed-aa09-5c3cd06b5074",
   "metadata": {},
   "source": [
    "This dataset does not contain missing values or duplicate dates"
   ]
  },
  {
   "cell_type": "markdown",
   "id": "9fea1835-bc18-41bd-a059-e8eb8bb57e5a",
   "metadata": {},
   "source": [
    "### 5.Exploratory_Data_Analysis_(EDA)"
   ]
  },
  {
   "cell_type": "code",
   "execution_count": 9,
   "id": "155ce1ab",
   "metadata": {},
   "outputs": [],
   "source": []
  },
  {
   "cell_type": "markdown",
   "id": "ba904739-e638-4b99-b118-c85d8f97e877",
   "metadata": {},
   "source": [
    "### 6.Conclusion"
   ]
  },
  {
   "cell_type": "code",
   "execution_count": null,
   "id": "91506a48-6ef6-47ee-b8f6-b8efa18ecb1d",
   "metadata": {},
   "outputs": [],
   "source": []
  }
 ],
 "metadata": {
  "kernelspec": {
   "display_name": "Python 3 (ipykernel)",
   "language": "python",
   "name": "python3"
  },
  "language_info": {
   "codemirror_mode": {
    "name": "ipython",
    "version": 3
   },
   "file_extension": ".py",
   "mimetype": "text/x-python",
   "name": "python",
   "nbconvert_exporter": "python",
   "pygments_lexer": "ipython3",
   "version": "3.12.4"
  }
 },
 "nbformat": 4,
 "nbformat_minor": 5
}
